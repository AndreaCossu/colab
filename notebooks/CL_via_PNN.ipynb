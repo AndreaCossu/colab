{
  "nbformat": 4,
  "nbformat_minor": 0,
  "metadata": {
    "colab": {
      "name": "CL_via_PNN.ipynb",
      "provenance": [],
      "collapsed_sections": []
    },
    "kernelspec": {
      "name": "python3",
      "display_name": "Python 3"
    }
  },
  "cells": [
    {
      "cell_type": "markdown",
      "metadata": {
        "id": "okIe1XDKh5-H"
      },
      "source": [
        "\n",
        "One way to eleminate forgetting while keeping the benefits of transfer learning is to expand the network architecture with every task. By doing this, one can increase the capacity of the network to learn new tasks while retaining its perfromance on older ones. An example approach to achieve CL via architecture expansion is [Progressive Neural Networks(PNN)](https://https://arxiv.org/pdf/1606.04671.pdf).\n",
        "\n",
        "**PNN**\n",
        "\n",
        "PNN works by having a part of the network (a column) dedicated to each task. Upon adding new tasks the previous columns weights get frozen so the network perfromance on those columns is fixed. To make the new columns benefit from the old columns knowledge through transfer learning, lateral connections `a` are added. By having a seperate lateral connections, the new column can learn from previous columns without decreasing the performance on the old tasks. \n",
        "\n",
        "The image below shows a network of 3 tasks upon adding the third task. The dashed lines are frozen weights to fix task 1 & 2 performance and `a` connections are used to link old tasks knowledge to the new task.\n",
        "\n",
        "<img src=\"https://qph.fs.quoracdn.net/main-qimg-c1e7ad14cca99e0b97475ad014e02397.webp\" align=\"center\"> </img>\n",
        "\n",
        "This network offers one the architecture-based techniques to solve CL. That being said, the expansion per task can be limiting when the number of tasks increases. This in addition to that the network expects to have the task-id at inference time are important drawbacks of this architecture. It's still intuitive and an important benchmark so we'll discuss how to make a simple PNN.\n"
      ]
    },
    {
      "cell_type": "code",
      "metadata": {
        "id": "5b4uH__YeIuE"
      },
      "source": [
        "# some initial imports\n",
        "import numpy as np\n",
        "import matplotlib.pyplot as plt\n",
        "import seaborn as sns\n",
        "\n",
        "import torch\n",
        "import torch.nn as nn\n",
        "import torchvision.datasets as datasets\n",
        "import torchvision.transforms as transforms\n",
        "import torch.optim as optim\n",
        "import torch.nn.functional as F"
      ],
      "execution_count": 1,
      "outputs": []
    },
    {
      "cell_type": "code",
      "metadata": {
        "id": "U4A2qeef4EGq"
      },
      "source": [
        "# switch to False to use CPU\n",
        "use_cuda = True\n",
        "\n",
        "use_cuda = use_cuda and torch.cuda.is_available()\n",
        "device = torch.device(\"cuda\" if use_cuda else \"cpu\");\n",
        "torch.manual_seed(1);"
      ],
      "execution_count": 2,
      "outputs": []
    },
    {
      "cell_type": "code",
      "metadata": {
        "colab": {
          "base_uri": "https://localhost:8080/"
        },
        "id": "eK7EoyUC4Hum",
        "outputId": "b24a2adb-2283-45f7-fb03-0a9e3945cad9"
      },
      "source": [
        "# Get MNIST data\n",
        "!git clone https://github.com/ContinualAI/colab.git continualai/colab\n",
        "\n",
        "from continualai.colab.scripts import mnist\n",
        "mnist.init()"
      ],
      "execution_count": 3,
      "outputs": [
        {
          "output_type": "stream",
          "text": [
            "fatal: destination path 'continualai/colab' already exists and is not an empty directory.\n",
            "Files already downloaded!\n"
          ],
          "name": "stdout"
        }
      ]
    },
    {
      "cell_type": "code",
      "metadata": {
        "id": "o2jv9bAh4J1o"
      },
      "source": [
        "# we will construct 5 tasks of MNIST, where every task is responsible for 2 digits\n",
        "x_train, t_train, x_test, t_test = mnist.load()\n",
        "# tasks to use\n",
        "task_classes_arr = [(0, 1), (2, 3), (4, 5), (6, 7), (8, 9)]\n",
        "tasks_num = len(task_classes_arr) # 5\n",
        "\n",
        "task_data = []\n",
        "for i, task_classes in enumerate(task_classes_arr):\n",
        "  train_mask = np.isin(t_train, task_classes)\n",
        "  test_mask = np.isin(t_test, task_classes)\n",
        "  x_train_task, t_train_task = x_train[train_mask], t_train[train_mask]\n",
        "  x_test_task, t_test_task = x_test[test_mask], t_test[test_mask]\n",
        "\n",
        "  task_data.append((x_train_task, t_train_task - (i * 2), \n",
        "                    x_test_task, t_test_task - (i * 2)))\n"
      ],
      "execution_count": 4,
      "outputs": []
    },
    {
      "cell_type": "markdown",
      "metadata": {
        "id": "j_KR19pu4G_g"
      },
      "source": [
        "First we need to build a network for each column and combine those later in the main network. A column is just like an ordinary network with the exception of the lateral connections from the previous columns. An important part is that all the previous columns need to be infered before the current column, so that it can use the output with the lateral connections.\n",
        "\n",
        "To limit the expansion of the network we'll decrease the size on the columns of tasks that come after the first task. In the code we use a hidden layer of size `128` for task#1 and `32` for all the subsequent tasks.    "
      ]
    },
    {
      "cell_type": "code",
      "metadata": {
        "id": "jcgvm1oy4N_H"
      },
      "source": [
        "class Column(nn.Module):\n",
        "  def __init__(self,  col_id=0, hsize=128):\n",
        "    super().__init__()\n",
        "    # new layers per column\n",
        "    self.l1 = nn.Linear(784, hsize)\n",
        "    self.l2 = nn.Linear(hsize, 2)\n",
        "    # lateral connections for old intermediate outputs\n",
        "    # a set of connections per layer\n",
        "    self.Us = nn.ModuleList()\n",
        "    self.col_id = col_id\n",
        "    for col_i in range(self.col_id):\n",
        "      h = 128 if col_i == 0 else 32\n",
        "      lateral = nn.Linear(h, 2)\n",
        "      self.Us.append(lateral)\n",
        "\n",
        "  def add_lateral(self, x, prev_cols, lateral_weights):\n",
        "    \"\"\"Compute the o/p of lateral connections.\n",
        "     Returns zeros tensor for first column.\n",
        "     lateral_weights ([int]): list of weights to control\n",
        "     the lateral connections\"\"\"\n",
        "    outputs = torch.zeros_like(x)\n",
        "    for col_id, col in enumerate(prev_cols):\n",
        "      input = col.outputs\n",
        "      if lateral_weights:\n",
        "        input = input * lateral_weights[col_id]\n",
        "      layer = self.Us[col_id]\n",
        "      outputs += layer(input)\n",
        "    return outputs\n",
        "\n",
        "  def freeze(self):\n",
        "    \"freezes all parameters of the column. To be used when adding new columns.\"\n",
        "    for param in self.parameters():\n",
        "      param.requires_grad = False\n",
        "\n",
        "  def forward(self, x, prev_cols, lateral_weights):\n",
        "    \"lateral_weights ([int]): list of weights to control the lateral connections\"\n",
        "    # 1- Transfer Learning\n",
        "    # for all previous columns, compute old transfered knowledge\n",
        "    # and save it to the instance of the column\n",
        "    for i, col in enumerate(prev_cols):\n",
        "      # compute all layers first\n",
        "      l_w = lateral_weights[:i+1]\n",
        "      col(x, prev_cols[:i], l_w)\n",
        "\n",
        "    # 2- New Knowledge\n",
        "    # input/1st layer\n",
        "    x = x.view(x.size(0), -1)\n",
        "    x = F.relu(self.l1(x))\n",
        "    # save intermediate outputs of current col\n",
        "    self.outputs = x\n",
        "    # last/2nd layer\n",
        "    x = self.l2(x)\n",
        "    # add lateral connextion o/p from all previous columns\n",
        "    x += self.add_lateral(x, prev_cols=prev_cols,\n",
        "                          lateral_weights=lateral_weights)\n",
        "\n",
        "    return x"
      ],
      "execution_count": 5,
      "outputs": []
    },
    {
      "cell_type": "markdown",
      "metadata": {
        "id": "mvevuQUR7yMQ"
      },
      "source": [
        "To create the whole network, we'll have a ModuleList that holds the columns. Upon adding a new task, all the columns are freezed and a new column with proper lateral connections is instantiated. For the forward pass we need to indicate which column to compute and it automatically computes all its previous columns. "
      ]
    },
    {
      "cell_type": "code",
      "metadata": {
        "id": "Gyy_QkD_Jcpz"
      },
      "source": [
        "class Net(nn.Module):\n",
        "  def __init__(self):\n",
        "    super().__init__()\n",
        "    self.cols = nn.ModuleList()\n",
        "  \n",
        "  def add_column(self, hsize=128):\n",
        "    # freeze all previous columns\n",
        "    for col in self.cols:\n",
        "      col.freeze()\n",
        "    # create new column\n",
        "    col_id = len(self.cols)\n",
        "    col = Column(col_id, hsize)\n",
        "    self.cols.append(col)\n",
        "\n",
        "  def forward(self, x, id, lateral_weights=None):\n",
        "    if lateral_weights is None:\n",
        "      # all lateral connections are on by default\n",
        "      lateral_weights = [1 for _ in range(id)]\n",
        "    col = self.cols[id]\n",
        "    return col(x, self.cols[:id], lateral_weights)\n",
        "    "
      ],
      "execution_count": 6,
      "outputs": []
    },
    {
      "cell_type": "code",
      "metadata": {
        "id": "QAXUWl1HKPFH"
      },
      "source": [
        "# basic training and testing loops\n",
        "def train(model, task_id, device, x_train, t_train,\n",
        "          optimizer, epochs=10, log_training=False):\n",
        "    for epoch in range(epochs):\n",
        "      model.train()\n",
        "      \n",
        "      for start in range(0, len(t_train)-1, 256):\n",
        "        end = start + 256\n",
        "        x, y = torch.from_numpy(x_train[start:end]), torch.from_numpy(t_train[start:end]).long()\n",
        "        x, y = x.to(device), y.to(device)\n",
        "        \n",
        "        optimizer.zero_grad()\n",
        "\n",
        "        output = model(x, task_id)\n",
        "        loss = F.cross_entropy(output, y)\n",
        "        loss.backward()\n",
        "        optimizer.step()\n",
        "        if log_training:\n",
        "          print('Train Epoch: {} \\tLoss: {:.6f}'.format(epoch, loss.item()))\n",
        "\n",
        "def test(model, task_id, device, x_test, t_test, lateral_weights=None):\n",
        "    model.eval()\n",
        "    test_loss = 0\n",
        "    correct = 0\n",
        "    for start in range(0, len(t_test)-1, 256):\n",
        "      end = start + 256\n",
        "      with torch.no_grad():\n",
        "        x, y = torch.from_numpy(x_test[start:end]), torch.from_numpy(t_test[start:end]).long()\n",
        "        x, y = x.to(device), y.to(device)\n",
        "        output = model(x, task_id, lateral_weights=lateral_weights)\n",
        "        test_loss += F.cross_entropy(output, y).item() # sum up batch loss\n",
        "        pred = output.max(1, keepdim=True)[1] # get the index of the max logit\n",
        "        correct += pred.eq(y.view_as(pred)).sum().item()\n",
        "\n",
        "    test_loss /= len(t_test)\n",
        "    return test_loss, 100. * correct / len(t_test)"
      ],
      "execution_count": 7,
      "outputs": []
    },
    {
      "cell_type": "markdown",
      "metadata": {
        "id": "rNnoPQau-2I1"
      },
      "source": [
        "In the next step we'll have a function that adds a column per task. In order to investigate how much the network have used old columns' output, we'll test once with turning on all the lateral connections and another with them off."
      ]
    },
    {
      "cell_type": "code",
      "metadata": {
        "id": "kLST74EoKqxM"
      },
      "source": [
        "def train_PNN(epochs=10):\n",
        "  \"Train all 5 taks using PNN\"\n",
        "  accs_grid_a = []\n",
        "  accs_grid_no_a = []\n",
        "\n",
        "  net = Net()\n",
        "  for task_id in range(tasks_num):\n",
        "    # train on current task\n",
        "    x_train, t_train, _, _ = task_data[task_id]\n",
        "    # smaller column sizes from 2nd task inwards to limit expansion\n",
        "    if task_id > 0:\n",
        "      net.add_column(hsize=32)\n",
        "    else: net.add_column()\n",
        "    optimizer = optim.SGD(net.parameters(), lr=0.01, momentum=0.9)\n",
        "    train(net, task_id, device, x_train, t_train, optimizer,\n",
        "          epochs=epochs, log_training=False)\n",
        "\n",
        "    # test on all tasks with lateral connections `a`\n",
        "    \n",
        "    accs_a = []\n",
        "    for id in range(0, task_id + 1):\n",
        "      _, _, x_test, t_test = task_data[id]\n",
        "      # we'll have the lateral weights as fully-on here\n",
        "      l_w = [1] * id\n",
        "      _, test_acc = test(net, id, device, x_test, t_test, lateral_weights=l_w)\n",
        "      accs_a.append(test_acc)\n",
        "  \n",
        "    if task_id < (tasks_num - 1):\n",
        "      accs_a.extend([np.nan] * (4 - task_id))\n",
        "    accs_grid_a.append(accs_a)\n",
        "\n",
        "\n",
        "    # test on all tasks without lateral connections `a`\n",
        "    accs_no_a = []\n",
        "    for id in range(0, task_id + 1):\n",
        "      _, _, x_test, t_test = task_data[id]\n",
        "      # we'll have the lateral weights as fully-off here\n",
        "      l_w = [0] * id\n",
        "      _, test_acc = test(net, id, device, x_test, t_test, lateral_weights=l_w)\n",
        "      accs_no_a.append(test_acc)\n",
        "  \n",
        "    if task_id < (tasks_num - 1):\n",
        "      accs_no_a.extend([np.nan] * (4 - task_id))\n",
        "    accs_grid_no_a.append(accs_no_a)\n",
        "\n",
        "  # return accuracies with and without lateral connections \n",
        "  return accs_grid_a, accs_grid_no_a"
      ],
      "execution_count": 8,
      "outputs": []
    },
    {
      "cell_type": "code",
      "metadata": {
        "id": "f-qYfSd4M-xF"
      },
      "source": [
        "accs_a, accs_no_a = train_PNN(epochs=15)"
      ],
      "execution_count": 9,
      "outputs": []
    },
    {
      "cell_type": "markdown",
      "metadata": {
        "id": "4CwebvEDBy0M"
      },
      "source": [
        "We can see from the below figure that the network uses some of the knowledge learnt from previous tasks to learn new tasks. As task number increases, its dependance on lateral connections increases (due to having more more connections as the task# progresses.) MNIST problem with multi-head setting is relatively simple though and with more complex tasks we can see more prononced releance on transfer learning from previous columns and can have a proxy for task similarity. A deeper analysis can be found in [the original paper](https://arxiv.org/pdf/1606.04671.pdf)"
      ]
    },
    {
      "cell_type": "code",
      "metadata": {
        "id": "vcIdCFHkUkk3",
        "colab": {
          "base_uri": "https://localhost:8080/",
          "height": 351
        },
        "outputId": "d84c896c-e753-4723-b816-18a69de095a0"
      },
      "source": [
        "fig, ax = plt.subplots(1, 2, figsize=(10, 5))\n",
        "\n",
        "ax[0].plot(range(1, 6), np.nanmean(accs_a, axis=1))\n",
        "ax[0].plot(range(1, 6), np.nanmean(accs_no_a, axis=1))\n",
        "ax[0].legend(['With lateral connections', 'Without lateral connections'])\n",
        "ax[0].set_ylabel('Accumulated Accuracy for Seen Tasks')\n",
        "ax[0].set_xlabel('Task Number')\n",
        "\n",
        "ax[1].plot(range(1, 6), accs_a[-1])\n",
        "ax[1].plot(range(1, 6), accs_no_a[-1])\n",
        "ax[1].legend(['With lateral connections', 'Without lateral connections'])\n",
        "ax[1].set_ylabel('Task Accuracy')\n",
        "ax[1].set_xlabel('Task Number')"
      ],
      "execution_count": 10,
      "outputs": [
        {
          "output_type": "execute_result",
          "data": {
            "text/plain": [
              "Text(0.5, 0, 'Task Number')"
            ]
          },
          "metadata": {
            "tags": []
          },
          "execution_count": 10
        },
        {
          "output_type": "display_data",
          "data": {
            "image/png": "[encoded data removed]",
            "text/plain": [
              "<Figure size 720x360 with 2 Axes>"
            ]
          },
          "metadata": {
            "tags": [],
            "needs_background": "light"
          }
        }
      ]
    }
  ]
}